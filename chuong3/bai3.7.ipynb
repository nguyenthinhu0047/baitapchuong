{
 "cells": [
  {
   "cell_type": "code",
   "execution_count": 1,
   "metadata": {},
   "outputs": [
    {
     "name": "stdout",
     "output_type": "stream",
     "text": [
      "Kiểu dữ liệu của np_baseball: object\n",
      "Kích thước của np_baseball: (1,)\n"
     ]
    },
    {
     "ename": "IndexError",
     "evalue": "too many indices for array: array is 1-dimensional, but 2 were indexed",
     "output_type": "error",
     "traceback": [
      "\u001b[1;31m---------------------------------------------------------------------------\u001b[0m",
      "\u001b[1;31mIndexError\u001b[0m                                Traceback (most recent call last)",
      "Cell \u001b[1;32mIn[1], line 12\u001b[0m\n\u001b[0;32m      9\u001b[0m \u001b[38;5;28mprint\u001b[39m(\u001b[38;5;124m\"\u001b[39m\u001b[38;5;124mKích thước của np_baseball:\u001b[39m\u001b[38;5;124m\"\u001b[39m, np_baseball\u001b[38;5;241m.\u001b[39mshape)\n\u001b[0;32m     11\u001b[0m \u001b[38;5;66;03m# Câu 2: In các giá trị của dòng thứ 50 trong np_baseball.\u001b[39;00m\n\u001b[1;32m---> 12\u001b[0m \u001b[38;5;28mprint\u001b[39m(\u001b[38;5;124m\"\u001b[39m\u001b[38;5;124mGiá trị của dòng thứ 50 trong np_baseball:\u001b[39m\u001b[38;5;124m\"\u001b[39m, \u001b[43mnp_baseball\u001b[49m\u001b[43m[\u001b[49m\u001b[38;5;241;43m49\u001b[39;49m\u001b[43m,\u001b[49m\u001b[43m \u001b[49m\u001b[43m:\u001b[49m\u001b[43m]\u001b[49m)\n\u001b[0;32m     14\u001b[0m \u001b[38;5;66;03m# Câu 3: Tạo numpy array np_weight với dữ liệu được lấy từ cột hai của np_baseball.\u001b[39;00m\n\u001b[0;32m     15\u001b[0m np_weight \u001b[38;5;241m=\u001b[39m np_baseball[:, \u001b[38;5;241m1\u001b[39m]\n",
      "\u001b[1;31mIndexError\u001b[0m: too many indices for array: array is 1-dimensional, but 2 were indexed"
     ]
    }
   ],
   "source": [
    "import numpy as np\n",
    "\n",
    "# Giả sử dữ liệu từ tập tin baseball_2D.txt đã được chép vào list là baseball\n",
    "baseball = [...]  # Thay [...] bằng dữ liệu thực tế\n",
    "\n",
    "# Câu 1: Tạo 2D numpy array tên np_baseball từ baseball. Xem kiểu dữ liệu và kích thước của np_baseball.\n",
    "np_baseball = np.array(baseball)\n",
    "print(\"Kiểu dữ liệu của np_baseball:\", np_baseball.dtype)\n",
    "print(\"Kích thước của np_baseball:\", np_baseball.shape)\n",
    "\n",
    "# Câu 2: In các giá trị của dòng thứ 50 trong np_baseball.\n",
    "print(\"Giá trị của dòng thứ 50 trong np_baseball:\", np_baseball[49, :])\n",
    "\n",
    "# Câu 3: Tạo numpy array np_weight với dữ liệu được lấy từ cột hai của np_baseball.\n",
    "np_weight = np_baseball[:, 1]\n",
    "print(\"np_weight:\", np_weight)\n",
    "\n",
    "# Câu 4: Cho biết chiều cao của vận động viên thứ 124.\n",
    "print(\"Chiều cao của vận động viên thứ 124:\", np_baseball[123, 0])\n",
    "\n",
    "# Câu 5: Cho biết chiều cao trung bình, cân nặng trung bình của các cầu thủ.\n",
    "print(\"Chiều cao trung bình:\", np.mean(np_baseball[:, 0]))\n",
    "print(\"Cân nặng trung bình:\", np.mean(np_baseball[:, 1]))\n",
    "\n",
    "# Câu 6: Nhận xét về mối tương quan giữa chiều cao và cân nặng của các cầu thủ.\n",
    "correlation = np.corrcoef(np_baseball[:, 0], np_baseball[:, 1])[0, 1]\n",
    "print(\"Hệ số tương quan giữa chiều cao và cân nặng:\", correlation)\n",
    "if correlation > 0:\n",
    "    print(\"Chiều cao và cân nặng có mối tương quan thuận.\")\n",
    "elif correlation < 0:\n",
    "    print(\"Chiều cao và cân nặng có mối tương quan nghịch.\")\n",
    "else:\n",
    "    print(\"Chiều cao và cân nặng không có mối tương quan.\")\n"
   ]
  }
 ],
 "metadata": {
  "kernelspec": {
   "display_name": "Python 3",
   "language": "python",
   "name": "python3"
  },
  "language_info": {
   "codemirror_mode": {
    "name": "ipython",
    "version": 3
   },
   "file_extension": ".py",
   "mimetype": "text/x-python",
   "name": "python",
   "nbconvert_exporter": "python",
   "pygments_lexer": "ipython3",
   "version": "3.12.0"
  }
 },
 "nbformat": 4,
 "nbformat_minor": 2
}
