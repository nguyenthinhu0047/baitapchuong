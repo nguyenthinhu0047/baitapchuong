{
 "cells": [
  {
   "cell_type": "code",
   "execution_count": 1,
   "metadata": {},
   "outputs": [
    {
     "name": "stdout",
     "output_type": "stream",
     "text": [
      "Array arr_zeros: [0. 0. 0. 0. 1. 0. 0. 0. 0. 0.]\n",
      "\n",
      "Array arr_h theo thứ tự đảo ngược: [24 23 22 21 20 19 18 17 16 15 14 13 12 11 10]\n",
      "\n",
      "Array arr_l từ arr_k với các phần tử khác 0: [1 2 8 2 1 3 5]\n",
      "\n",
      "Array arr_l sau khi thêm 2 phần tử: [ 1  2  8  2  1  3  5 10 20]\n",
      "\n",
      "Array arr_l sau khi thêm phần tử 100 vào vị trí có index = 5: [  1   2   8   2   1 100   3   5  10  20]\n",
      "\n",
      "Array arr_l sau khi xóa phần tử tại vị trí có index = 0, 1, 2: [  2   1 100   3   5  10  20]\n"
     ]
    }
   ],
   "source": [
    "import numpy as np\n",
    "\n",
    "# Yêu cầu 1\n",
    "arr_zeros = np.zeros(10)\n",
    "arr_zeros[4] = 1\n",
    "print(\"Array arr_zeros:\", arr_zeros)\n",
    "\n",
    "# Yêu cầu 2\n",
    "arr_h = np.arange(10, 25)\n",
    "arr_h_reverse = arr_h[::-1]\n",
    "print(\"\\nArray arr_h theo thứ tự đảo ngược:\", arr_h_reverse)\n",
    "\n",
    "# Yêu cầu 3\n",
    "arr_k = np.array([1, 2, 0, 8, 2, 0, 1, 3, 0, 5, 0])\n",
    "arr_l = arr_k[arr_k != 0]\n",
    "print(\"\\nArray arr_l từ arr_k với các phần tử khác 0:\", arr_l)\n",
    "\n",
    "# Yêu cầu 4\n",
    "arr_l = np.append(arr_l, [10, 20])\n",
    "print(\"\\nArray arr_l sau khi thêm 2 phần tử:\", arr_l)\n",
    "\n",
    "# Yêu cầu 5\n",
    "arr_l = np.insert(arr_l, 5, 100)\n",
    "print(\"\\nArray arr_l sau khi thêm phần tử 100 vào vị trí có index = 5:\", arr_l)\n",
    "\n",
    "# Yêu cầu 6\n",
    "arr_l = np.delete(arr_l, [0, 1, 2])\n",
    "print(\"\\nArray arr_l sau khi xóa phần tử tại vị trí có index = 0, 1, 2:\", arr_l)\n"
   ]
  }
 ],
 "metadata": {
  "kernelspec": {
   "display_name": "Python 3",
   "language": "python",
   "name": "python3"
  },
  "language_info": {
   "codemirror_mode": {
    "name": "ipython",
    "version": 3
   },
   "file_extension": ".py",
   "mimetype": "text/x-python",
   "name": "python",
   "nbconvert_exporter": "python",
   "pygments_lexer": "ipython3",
   "version": "3.12.0"
  }
 },
 "nbformat": 4,
 "nbformat_minor": 2
}
