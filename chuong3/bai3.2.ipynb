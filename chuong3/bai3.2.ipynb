{
 "cells": [
  {
   "cell_type": "code",
   "execution_count": 1,
   "metadata": {},
   "outputs": [
    {
     "name": "stdout",
     "output_type": "stream",
     "text": [
      "Array arr: [0 1 2 3 4 5 6 7 8 9]\n",
      "Kiểu dữ liệu của arr: int32\n",
      "Kích thước của arr: (10,)\n",
      "\n",
      "Array arr_odd: [1 3 5 7 9]\n",
      "Array arr_even: [0 2 4 6 8]\n",
      "\n",
      "Array arr_update_1 sau khi cập nhật: [  0 100   2 100   4 100   6 100   8 100]\n"
     ]
    }
   ],
   "source": [
    "import numpy as np\n",
    "\n",
    "# Yêu cầu 1\n",
    "arr = np.arange(10)\n",
    "print(\"Array arr:\", arr)\n",
    "print(\"Kiểu dữ liệu của arr:\", arr.dtype)\n",
    "print(\"Kích thước của arr:\", arr.shape)\n",
    "\n",
    "# Yêu cầu 2\n",
    "arr_odd = arr[arr % 2 != 0]\n",
    "arr_even = arr[arr % 2 == 0]\n",
    "print(\"\\nArray arr_odd:\", arr_odd)\n",
    "print(\"Array arr_even:\", arr_even)\n",
    "\n",
    "# Yêu cầu 3\n",
    "arr_update_1 = np.where(arr % 2 != 0, 100, arr)\n",
    "print(\"\\nArray arr_update_1 sau khi cập nhật:\", arr_update_1)\n"
   ]
  }
 ],
 "metadata": {
  "kernelspec": {
   "display_name": "Python 3",
   "language": "python",
   "name": "python3"
  },
  "language_info": {
   "codemirror_mode": {
    "name": "ipython",
    "version": 3
   },
   "file_extension": ".py",
   "mimetype": "text/x-python",
   "name": "python",
   "nbconvert_exporter": "python",
   "pygments_lexer": "ipython3",
   "version": "3.12.0"
  }
 },
 "nbformat": 4,
 "nbformat_minor": 2
}
